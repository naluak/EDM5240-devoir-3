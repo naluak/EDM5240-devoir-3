{
 "cells": [
  {
   "cell_type": "markdown",
   "metadata": {},
   "source": [
    "Mise en place de Panda:"
   ]
  },
  {
   "cell_type": "code",
   "execution_count": 1,
   "metadata": {},
   "outputs": [],
   "source": [
    "import pandas as pan\n",
    "%matplotlib inline\n",
    "pan.options.display.float_format = \"{:.2f}\".format"
   ]
  },
  {
   "cell_type": "markdown",
   "metadata": {},
   "source": [
    "Ouverture du document de travail"
   ]
  },
  {
   "cell_type": "code",
   "execution_count": 2,
   "metadata": {},
   "outputs": [],
   "source": [
    "grants = pan.read_csv(\"grants.csv\", low_memory=False)"
   ]
  },
  {
   "cell_type": "markdown",
   "metadata": {},
   "source": [
    "Supression de colonnes et vérifications."
   ]
  },
  {
   "cell_type": "code",
   "execution_count": 3,
   "metadata": {},
   "outputs": [],
   "source": [
    "grants = grants.drop([\"description_en\",\"expected_results_en\",\"additional_information_en\"],1)\n",
    "grants = grants.drop(['federal_riding_name_en','prog_name_en','prog_purpose_en','agreement_title_en'],1)"
   ]
  },
  {
   "cell_type": "code",
   "execution_count": 4,
   "metadata": {},
   "outputs": [
    {
     "data": {
      "text/plain": [
       "Index(['ref_number', 'amendment_number', 'amendment_date', 'agreement_type',\n",
       "       'recipient_type', 'recipient_business_number', 'recipient_legal_name',\n",
       "       'recipient_operating_name', 'research_organization_name',\n",
       "       'recipient_country', 'recipient_province', 'recipient_city',\n",
       "       'recipient_postal_code', 'federal_riding_name_fr',\n",
       "       'federal_riding_number', 'prog_name_fr', 'prog_purpose_fr',\n",
       "       'agreement_title_fr', 'agreement_number', 'agreement_value',\n",
       "       'foreign_currency_type', 'foreign_currency_value',\n",
       "       'agreement_start_date', 'agreement_end_date', 'coverage',\n",
       "       'description_fr', 'naics_identifier', 'expected_results_fr',\n",
       "       'additional_information_fr', 'owner_org', 'owner_org_title'],\n",
       "      dtype='object')"
      ]
     },
     "execution_count": 4,
     "metadata": {},
     "output_type": "execute_result"
    }
   ],
   "source": [
    "grants.columns"
   ]
  },
  {
   "cell_type": "markdown",
   "metadata": {},
   "source": [
    "Donner de nouveaux noms aux colonnes"
   ]
  },
  {
   "cell_type": "code",
   "execution_count": 5,
   "metadata": {},
   "outputs": [],
   "source": [
    "grants.columns = [\"numéro_référence\", \"numéro_amendement\", \"date_ammendement\", \"type_entente\", \"type_receveur\", \"numéro_compagnie_réceptrice\", \"nom_légal_receveur\", \"nom_opération_receveur\", \"nom_organisation_recherche\", \"Pays_receveur\",\"province_réceptrice\",\"ville_réceptrice\",\"code_postal_receveur\",\"nom_circonscription\",\"numéro_circonscription\",\"nom_programme\",\"but_programme\", \"titre_entente\",\"numéro_entente\",\"valeur_entente\",\"type_monnaie_étrangère\",\"valeur_monnaie_étrangère\",\"date_début_entente\",\"date_fin_entente\", \"couverture\",\"description\", \"identifiant_naics\", \"résultats_attendus\", \"autres informations\", \"proprio_organisation\", \"titre_proprio_organisation\"]"
   ]
  },
  {
   "cell_type": "code",
   "execution_count": 6,
   "metadata": {},
   "outputs": [
    {
     "data": {
      "text/plain": [
       "Index(['numéro_référence', 'numéro_amendement', 'date_ammendement',\n",
       "       'type_entente', 'type_receveur', 'numéro_compagnie_réceptrice',\n",
       "       'nom_légal_receveur', 'nom_opération_receveur',\n",
       "       'nom_organisation_recherche', 'Pays_receveur', 'province_réceptrice',\n",
       "       'ville_réceptrice', 'code_postal_receveur', 'nom_circonscription',\n",
       "       'numéro_circonscription', 'nom_programme', 'but_programme',\n",
       "       'titre_entente', 'numéro_entente', 'valeur_entente',\n",
       "       'type_monnaie_étrangère', 'valeur_monnaie_étrangère',\n",
       "       'date_début_entente', 'date_fin_entente', 'couverture', 'description',\n",
       "       'identifiant_naics', 'résultats_attendus', 'autres informations',\n",
       "       'proprio_organisation', 'titre_proprio_organisation'],\n",
       "      dtype='object')"
      ]
     },
     "execution_count": 6,
     "metadata": {},
     "output_type": "execute_result"
    }
   ],
   "source": [
    "grants.columns"
   ]
  },
  {
   "cell_type": "markdown",
   "metadata": {},
   "source": [
    "Tri pour travailler dans le ministère du Patrimoine"
   ]
  },
  {
   "cell_type": "code",
   "execution_count": 24,
   "metadata": {},
   "outputs": [],
   "source": [
    "grants=grants.loc[grants[\"titre_proprio_organisation\"] == \"Canadian Heritage | Patrimoine canadien\"]"
   ]
  },
  {
   "cell_type": "markdown",
   "metadata": {},
   "source": [
    "Remplacements de certains caractères pour rendre une colonne en nombre"
   ]
  },
  {
   "cell_type": "code",
   "execution_count": 25,
   "metadata": {},
   "outputs": [
    {
     "ename": "AttributeError",
     "evalue": "Can only use .str accessor with string values, which use np.object_ dtype in pandas",
     "output_type": "error",
     "traceback": [
      "\u001b[1;31m---------------------------------------------------------------------------\u001b[0m",
      "\u001b[1;31mAttributeError\u001b[0m                            Traceback (most recent call last)",
      "\u001b[1;32m<ipython-input-25-585ef02e6e09>\u001b[0m in \u001b[0;36m<module>\u001b[1;34m\u001b[0m\n\u001b[1;32m----> 1\u001b[1;33m \u001b[0mgrants\u001b[0m\u001b[1;33m[\u001b[0m\u001b[1;34m\"valeur_entente\"\u001b[0m\u001b[1;33m]\u001b[0m\u001b[1;33m=\u001b[0m\u001b[0mgrants\u001b[0m\u001b[1;33m[\u001b[0m\u001b[1;34m\"valeur_entente\"\u001b[0m\u001b[1;33m]\u001b[0m\u001b[1;33m.\u001b[0m\u001b[0mstr\u001b[0m\u001b[1;33m.\u001b[0m\u001b[0mreplace\u001b[0m\u001b[1;33m(\u001b[0m\u001b[1;34m\"$\"\u001b[0m\u001b[1;33m,\u001b[0m\u001b[1;34m\"\"\u001b[0m\u001b[1;33m,\u001b[0m\u001b[0mregex\u001b[0m\u001b[1;33m=\u001b[0m\u001b[1;32mFalse\u001b[0m\u001b[1;33m)\u001b[0m\u001b[1;33m\u001b[0m\u001b[1;33m\u001b[0m\u001b[0m\n\u001b[0m\u001b[0;32m      2\u001b[0m \u001b[0mgrants\u001b[0m\u001b[1;33m[\u001b[0m\u001b[1;34m\"valeur_entente\"\u001b[0m\u001b[1;33m]\u001b[0m\u001b[1;33m=\u001b[0m\u001b[0mgrants\u001b[0m\u001b[1;33m[\u001b[0m\u001b[1;34m\"valeur_entente\"\u001b[0m\u001b[1;33m]\u001b[0m\u001b[1;33m.\u001b[0m\u001b[0mstr\u001b[0m\u001b[1;33m.\u001b[0m\u001b[0mreplace\u001b[0m\u001b[1;33m(\u001b[0m\u001b[1;34m\",\"\u001b[0m\u001b[1;33m,\u001b[0m\u001b[1;34m\"\"\u001b[0m\u001b[1;33m,\u001b[0m\u001b[0mregex\u001b[0m\u001b[1;33m=\u001b[0m\u001b[1;32mFalse\u001b[0m\u001b[1;33m)\u001b[0m\u001b[1;33m\u001b[0m\u001b[1;33m\u001b[0m\u001b[0m\n\u001b[0;32m      3\u001b[0m \u001b[0mgrants\u001b[0m\u001b[1;33m[\u001b[0m\u001b[1;34m\"valeur_entente\"\u001b[0m\u001b[1;33m]\u001b[0m\u001b[1;33m=\u001b[0m\u001b[0mpan\u001b[0m\u001b[1;33m.\u001b[0m\u001b[0mto_numeric\u001b[0m\u001b[1;33m(\u001b[0m\u001b[0mgrants\u001b[0m\u001b[1;33m[\u001b[0m\u001b[1;34m\"valeur_entente\"\u001b[0m\u001b[1;33m]\u001b[0m\u001b[1;33m)\u001b[0m\u001b[1;33m\u001b[0m\u001b[1;33m\u001b[0m\u001b[0m\n",
      "\u001b[1;32m~\\Anaconda3\\lib\\site-packages\\pandas\\core\\generic.py\u001b[0m in \u001b[0;36m__getattr__\u001b[1;34m(self, name)\u001b[0m\n\u001b[0;32m   4370\u001b[0m         if (name in self._internal_names_set or name in self._metadata or\n\u001b[0;32m   4371\u001b[0m                 name in self._accessors):\n\u001b[1;32m-> 4372\u001b[1;33m             \u001b[1;32mreturn\u001b[0m \u001b[0mobject\u001b[0m\u001b[1;33m.\u001b[0m\u001b[0m__getattribute__\u001b[0m\u001b[1;33m(\u001b[0m\u001b[0mself\u001b[0m\u001b[1;33m,\u001b[0m \u001b[0mname\u001b[0m\u001b[1;33m)\u001b[0m\u001b[1;33m\u001b[0m\u001b[1;33m\u001b[0m\u001b[0m\n\u001b[0m\u001b[0;32m   4373\u001b[0m         \u001b[1;32melse\u001b[0m\u001b[1;33m:\u001b[0m\u001b[1;33m\u001b[0m\u001b[1;33m\u001b[0m\u001b[0m\n\u001b[0;32m   4374\u001b[0m             \u001b[1;32mif\u001b[0m \u001b[0mself\u001b[0m\u001b[1;33m.\u001b[0m\u001b[0m_info_axis\u001b[0m\u001b[1;33m.\u001b[0m\u001b[0m_can_hold_identifiers_and_holds_name\u001b[0m\u001b[1;33m(\u001b[0m\u001b[0mname\u001b[0m\u001b[1;33m)\u001b[0m\u001b[1;33m:\u001b[0m\u001b[1;33m\u001b[0m\u001b[1;33m\u001b[0m\u001b[0m\n",
      "\u001b[1;32m~\\Anaconda3\\lib\\site-packages\\pandas\\core\\accessor.py\u001b[0m in \u001b[0;36m__get__\u001b[1;34m(self, obj, cls)\u001b[0m\n\u001b[0;32m    131\u001b[0m             \u001b[1;31m# we're accessing the attribute of the class, i.e., Dataset.geo\u001b[0m\u001b[1;33m\u001b[0m\u001b[1;33m\u001b[0m\u001b[1;33m\u001b[0m\u001b[0m\n\u001b[0;32m    132\u001b[0m             \u001b[1;32mreturn\u001b[0m \u001b[0mself\u001b[0m\u001b[1;33m.\u001b[0m\u001b[0m_accessor\u001b[0m\u001b[1;33m\u001b[0m\u001b[1;33m\u001b[0m\u001b[0m\n\u001b[1;32m--> 133\u001b[1;33m         \u001b[0maccessor_obj\u001b[0m \u001b[1;33m=\u001b[0m \u001b[0mself\u001b[0m\u001b[1;33m.\u001b[0m\u001b[0m_accessor\u001b[0m\u001b[1;33m(\u001b[0m\u001b[0mobj\u001b[0m\u001b[1;33m)\u001b[0m\u001b[1;33m\u001b[0m\u001b[1;33m\u001b[0m\u001b[0m\n\u001b[0m\u001b[0;32m    134\u001b[0m         \u001b[1;31m# Replace the property with the accessor object. Inspired by:\u001b[0m\u001b[1;33m\u001b[0m\u001b[1;33m\u001b[0m\u001b[1;33m\u001b[0m\u001b[0m\n\u001b[0;32m    135\u001b[0m         \u001b[1;31m# http://www.pydanny.com/cached-property.html\u001b[0m\u001b[1;33m\u001b[0m\u001b[1;33m\u001b[0m\u001b[1;33m\u001b[0m\u001b[0m\n",
      "\u001b[1;32m~\\Anaconda3\\lib\\site-packages\\pandas\\core\\strings.py\u001b[0m in \u001b[0;36m__init__\u001b[1;34m(self, data)\u001b[0m\n\u001b[0;32m   1893\u001b[0m \u001b[1;33m\u001b[0m\u001b[0m\n\u001b[0;32m   1894\u001b[0m     \u001b[1;32mdef\u001b[0m \u001b[0m__init__\u001b[0m\u001b[1;33m(\u001b[0m\u001b[0mself\u001b[0m\u001b[1;33m,\u001b[0m \u001b[0mdata\u001b[0m\u001b[1;33m)\u001b[0m\u001b[1;33m:\u001b[0m\u001b[1;33m\u001b[0m\u001b[1;33m\u001b[0m\u001b[0m\n\u001b[1;32m-> 1895\u001b[1;33m         \u001b[0mself\u001b[0m\u001b[1;33m.\u001b[0m\u001b[0m_validate\u001b[0m\u001b[1;33m(\u001b[0m\u001b[0mdata\u001b[0m\u001b[1;33m)\u001b[0m\u001b[1;33m\u001b[0m\u001b[1;33m\u001b[0m\u001b[0m\n\u001b[0m\u001b[0;32m   1896\u001b[0m         \u001b[0mself\u001b[0m\u001b[1;33m.\u001b[0m\u001b[0m_is_categorical\u001b[0m \u001b[1;33m=\u001b[0m \u001b[0mis_categorical_dtype\u001b[0m\u001b[1;33m(\u001b[0m\u001b[0mdata\u001b[0m\u001b[1;33m)\u001b[0m\u001b[1;33m\u001b[0m\u001b[1;33m\u001b[0m\u001b[0m\n\u001b[0;32m   1897\u001b[0m \u001b[1;33m\u001b[0m\u001b[0m\n",
      "\u001b[1;32m~\\Anaconda3\\lib\\site-packages\\pandas\\core\\strings.py\u001b[0m in \u001b[0;36m_validate\u001b[1;34m(data)\u001b[0m\n\u001b[0;32m   1915\u001b[0m             \u001b[1;31m# (instead of test for object dtype), but that isn't practical for\u001b[0m\u001b[1;33m\u001b[0m\u001b[1;33m\u001b[0m\u001b[1;33m\u001b[0m\u001b[0m\n\u001b[0;32m   1916\u001b[0m             \u001b[1;31m# performance reasons until we have a str dtype (GH 9343)\u001b[0m\u001b[1;33m\u001b[0m\u001b[1;33m\u001b[0m\u001b[1;33m\u001b[0m\u001b[0m\n\u001b[1;32m-> 1917\u001b[1;33m             raise AttributeError(\"Can only use .str accessor with string \"\n\u001b[0m\u001b[0;32m   1918\u001b[0m                                  \u001b[1;34m\"values, which use np.object_ dtype in \"\u001b[0m\u001b[1;33m\u001b[0m\u001b[1;33m\u001b[0m\u001b[0m\n\u001b[0;32m   1919\u001b[0m                                  \"pandas\")\n",
      "\u001b[1;31mAttributeError\u001b[0m: Can only use .str accessor with string values, which use np.object_ dtype in pandas"
     ]
    }
   ],
   "source": [
    "grants[\"valeur_entente\"]=grants[\"valeur_entente\"].str.replace(\"$\",\"\",regex=False)\n",
    "grants[\"valeur_entente\"]=grants[\"valeur_entente\"].str.replace(\",\",\"\",regex=False)\n",
    "grants[\"valeur_entente\"]=pan.to_numeric(grants[\"valeur_entente\"])"
   ]
  },
  {
   "cell_type": "code",
   "execution_count": 26,
   "metadata": {},
   "outputs": [
    {
     "data": {
      "text/plain": [
       "numéro_référence                object\n",
       "numéro_amendement                int64\n",
       "date_ammendement                object\n",
       "type_entente                    object\n",
       "type_receveur                   object\n",
       "numéro_compagnie_réceptrice     object\n",
       "nom_légal_receveur              object\n",
       "nom_opération_receveur          object\n",
       "nom_organisation_recherche      object\n",
       "Pays_receveur                   object\n",
       "province_réceptrice             object\n",
       "ville_réceptrice                object\n",
       "code_postal_receveur            object\n",
       "nom_circonscription             object\n",
       "numéro_circonscription         float64\n",
       "nom_programme                   object\n",
       "but_programme                   object\n",
       "titre_entente                   object\n",
       "numéro_entente                  object\n",
       "valeur_entente                 float64\n",
       "type_monnaie_étrangère          object\n",
       "valeur_monnaie_étrangère        object\n",
       "date_début_entente              object\n",
       "date_fin_entente                object\n",
       "couverture                      object\n",
       "description                     object\n",
       "identifiant_naics              float64\n",
       "résultats_attendus              object\n",
       "autres informations             object\n",
       "proprio_organisation            object\n",
       "titre_proprio_organisation      object\n",
       "dtype: object"
      ]
     },
     "execution_count": 26,
     "metadata": {},
     "output_type": "execute_result"
    }
   ],
   "source": [
    "grants.dtypes"
   ]
  },
  {
   "cell_type": "markdown",
   "metadata": {},
   "source": [
    "liste des programmes du ministère"
   ]
  },
  {
   "cell_type": "code",
   "execution_count": 41,
   "metadata": {},
   "outputs": [
    {
     "data": {
      "text/plain": [
       "array([nan, 'Fonds des médias du Canada',\n",
       "       'Célébration, commémoration et apprentissage',\n",
       "       'La fondation Rideau Hall', \"Programme d'aide aux musées (PAM)\",\n",
       "       'Développement de Communautés de Langue Officielle',\n",
       "       'Programme de soutien au sport',\n",
       "       'Fonds du Canada pour les espaces Culturels',\n",
       "       'Mise en valeur des langues officielles',\n",
       "       'Fonds du Canada pour la présentation des arts',\n",
       "       'Programme des peuples autochtones',\n",
       "       'Fonds de la musique du Canada',\n",
       "       'Groupe fiduciaire des édifices des Pères de la Confédération',\n",
       "       'Développement des communautés par le biais des arts et du patrimoine',\n",
       "       \"Fonds pour l'histoire du Canada\",\n",
       "       \"Fonds du Canada pour l'investissement en culture\",\n",
       "       'Fonds du livre du Canada', 'Fonds du Canada pour les périodiques',\n",
       "       \"Sport - Programme d'accueil\", 'Programme du multiculturalisme',\n",
       "       \"Les jeunes s'engagent\", 'TV5',\n",
       "       'Fonds du Canada pour la formation dans le secteur des arts'],\n",
       "      dtype=object)"
      ]
     },
     "execution_count": 41,
     "metadata": {},
     "output_type": "execute_result"
    }
   ],
   "source": [
    "liste_programme=grants[\"nom_programme\"].unique()\n",
    "liste_programme"
   ]
  },
  {
   "cell_type": "markdown",
   "metadata": {},
   "source": [
    "sous-ensemble avec le programme qui a octroyé le plus grand nombre de subventions"
   ]
  },
  {
   "cell_type": "code",
   "execution_count": 33,
   "metadata": {},
   "outputs": [
    {
     "data": {
      "text/plain": [
       "Fonds du Canada pour les périodiques                                    824\n",
       "Développement de Communautés de Langue Officielle                       461\n",
       "Développement des communautés par le biais des arts et du patrimoine    447\n",
       "Célébration, commémoration et apprentissage                             328\n",
       "Fonds du livre du Canada                                                298\n",
       "Programme du multiculturalisme                                          213\n",
       "Fonds du Canada pour la présentation des arts                           176\n",
       "Programme de soutien au sport                                           125\n",
       "Mise en valeur des langues officielles                                  120\n",
       "Programme des peuples autochtones                                       114\n",
       "Fonds du Canada pour les espaces Culturels                              105\n",
       "Sport - Programme d'accueil                                              75\n",
       "Programme d'aide aux musées (PAM)                                        74\n",
       "Fonds du Canada pour la formation dans le secteur des arts               19\n",
       "Fonds pour l'histoire du Canada                                          13\n",
       "Fonds du Canada pour l'investissement en culture                         11\n",
       "Les jeunes s'engagent                                                     4\n",
       "Fonds de la musique du Canada                                             4\n",
       "Fonds des médias du Canada                                                2\n",
       "TV5                                                                       1\n",
       "La fondation Rideau Hall                                                  1\n",
       "Groupe fiduciaire des édifices des Pères de la Confédération              1\n",
       "Name: nom_programme, dtype: int64"
      ]
     },
     "execution_count": 33,
     "metadata": {},
     "output_type": "execute_result"
    }
   ],
   "source": [
    "grants[\"nom_programme\"].value_counts().sort_values(ascending=False)"
   ]
  },
  {
   "cell_type": "code",
   "execution_count": 35,
   "metadata": {},
   "outputs": [],
   "source": [
    "grants_periodique=grants.loc[grants[\"nom_programme\"] == \"Fonds du Canada pour les périodiques\"]"
   ]
  },
  {
   "cell_type": "markdown",
   "metadata": {},
   "source": [
    " liste des entreprises, selon leur nom légal, qui ont le plus bénéficié de ce programme"
   ]
  },
  {
   "cell_type": "code",
   "execution_count": 37,
   "metadata": {},
   "outputs": [
    {
     "data": {
      "text/plain": [
       "nom_légal_receveur\n",
       "TVA PUBLICATIONS INC. - CANADIAN LIVING                                1500000.00\n",
       "TVA PUBLICATIONS INC. - TV HEBDO                                       1500000.00\n",
       "ROGERS MEDIA INC. - MACLEAN'S                                          1403958.00\n",
       "TVA PUBLICATIONS INC. - STYLE AT HOME                                  1368536.00\n",
       "TVA PUBLICATIONS INC. - 7 JOURS                                        1306990.00\n",
       "FEATURE PUBLISHING LTD.                                                1264919.00\n",
       "HOUSE & HOME MEDIA - CANADIAN HOUSE & HOME                             1264584.00\n",
       "READER'S DIGEST MAGAZINES LIMITED - READER'S DIGEST                    1247578.00\n",
       "WESTERN PRODUCER PUBLICATIONS LIMITED PARTNERSHIP                      1207816.00\n",
       "TVA PUBLICATIONS INC. - COUP DE POUCE                                  1199271.00\n",
       "PUBLICATIONS CHARRON & CIE INC. (LES) - LA SEMAINE                     1113622.00\n",
       "FÉDÉRATION DE L'ÂGE D'OR DU QUÉBEC                                     1070534.00\n",
       "GLACIER FARMMEDIA LIMITED PARTNERSHIP                                  1049976.00\n",
       "ZOOMERMEDIA LIMITED                                                    1045168.00\n",
       "ROGERS MEDIA INC. - CHATELAINE (ENGLISH)                               1025639.00\n",
       "CANADA WIDE MEDIA LIMITED - TV WEEK                                    1005754.00\n",
       "PUBLICATIONS GROUPE TVA-HEARST INC. (LES)                              1000227.00\n",
       "ROUSTAN MEDIA LTD.                                                      941019.00\n",
       "CANVET PUBLICATIONS LTD. - LEGION MAGAZINE                              904210.00\n",
       "POSTMEDIA NETWORK INC. - ONTARIO FARMER                                 866359.00\n",
       "PUBLICATIONS SENIOR INC. - BEL ÂGE                                      850315.00\n",
       "UNION DES PRODUCTEURS AGRICOLES (L') - LA TERRE DE CHEZ NOUS            843618.00\n",
       "MAGAZINES CANADA                                                        824385.00\n",
       "MISHMASH MEDIA INC.                                                     805725.00\n",
       "RICARDO MÉDIA INC.                                                      776711.00\n",
       "CANADIAN GEOGRAPHIC ENTERPRISES                                         763483.00\n",
       "OUTDOOR GROUP MEDIA LTD.                                                762008.00\n",
       "TVA PUBLICATIONS INC. - ÉCHOS VEDETTES                                  739461.00\n",
       "PUBLICATIONS SENIOR INC. - GOOD TIMES                                   655819.00\n",
       "ÉDITIONS PROTÉGEZ-VOUS (LES)                                            645920.00\n",
       "                                                                          ...    \n",
       "BRAMBLE INK                                                               6100.00\n",
       "ALTA NEWSPAPER GROUP LIMITED PARTNERSHIP - WESTWIND WEEKLY NEWS           5803.00\n",
       "COOPÉRATIVE DES PUBLICATIONS FRANSASKOISES LIMITÉE (LA) - L'EAU VIVE      5729.00\n",
       "ISLAND PRESS LIMITED - ATLANTIC POST CALLS                                5600.00\n",
       "INUIT ART FOUNDATION - INUIT ART QUARTERLY                                5400.00\n",
       "GABOTEUR INC. (LE)                                                        5393.00\n",
       "RED PRESS SOCIETY                                                         5041.00\n",
       "3494586 CANADA INC. - NATION                                              5032.00\n",
       "ÉDITIONS NUMÉRIQUES                                                       5000.00\n",
       "ASPARAGUS MAGAZINE                                                        5000.00\n",
       "NHP PUBLICATIONS                                                          5000.00\n",
       "EASY PERIODICAL                                                           5000.00\n",
       "THE ANTI-LANGUOROUS PROJECT                                               5000.00\n",
       "MISSISSAUGA ARTS GUIDE                                                    5000.00\n",
       "QUEER NEWS                                                                5000.00\n",
       "MUST DO CANADA                                                            5000.00\n",
       "LYUBOV SLAVATINSKA - SMART KIDS                                           4826.00\n",
       "MASARYK MEMORIAL INSTITUTE INCORPORATED                                   4793.00\n",
       "MEDIA MATTERS INCORPORATED                                                4299.00\n",
       "MI'KMAQ/MALISEET NATIONS NEWS ASSOCIATION                                 3830.00\n",
       "COMMITTEE D'ACTION PLACE LAFONTAINE - LE GOÛT DE VIVRE                    3681.00\n",
       "GUJARAT WEEKLY INC.- GUJARAT WEEKLY                                       3512.00\n",
       "HOTAKI INTERNATIONAL INC.                                                 3300.00\n",
       "BLACK PRESS GROUP LTD. - BASHAW STAR                                      3171.00\n",
       "BLACK PRESS GROUP LTD. - COAST MOUNTAIN NEWS                              2696.00\n",
       "TRIDENT PRESS LTD.                                                        2220.00\n",
       "THAI VEEDU INC.                                                           2180.00\n",
       "DAIANE JOANA D'ARC FREITAS GUEDES                                         1721.00\n",
       "EXPRESS DE TORONTO INC. ( L')                                             1196.00\n",
       "SALAM TORONTO MEDIA INC. - SALAM TORONTO                                  1172.00\n",
       "Name: valeur_entente, Length: 751, dtype: float64"
      ]
     },
     "execution_count": 37,
     "metadata": {},
     "output_type": "execute_result"
    }
   ],
   "source": [
    "grants_periodique.groupby(\"nom_légal_receveur\").valeur_entente.sum().sort_values(ascending=False)"
   ]
  },
  {
   "cell_type": "markdown",
   "metadata": {},
   "source": [
    "le pourcentage des subventions reçues par chaque province en vertu de ce programme"
   ]
  },
  {
   "cell_type": "code",
   "execution_count": 39,
   "metadata": {},
   "outputs": [
    {
     "data": {
      "text/plain": [
       "province_réceptrice\n",
       "AB    3.11\n",
       "BC    6.63\n",
       "MB    3.25\n",
       "NB    0.67\n",
       "NL    1.50\n",
       "NS    1.81\n",
       "NT    0.30\n",
       "ON   38.87\n",
       "PE    0.19\n",
       "QC   40.19\n",
       "SK    3.47\n",
       "YT    0.01\n",
       "Name: valeur_entente, dtype: float64"
      ]
     },
     "execution_count": 39,
     "metadata": {},
     "output_type": "execute_result"
    }
   ],
   "source": [
    "grants_periodique.groupby(\"province_réceptrice\").valeur_entente.sum()/grants_periodique.valeur_entente.sum()*100"
   ]
  }
 ],
 "metadata": {
  "kernelspec": {
   "display_name": "Python 3",
   "language": "python",
   "name": "python3"
  },
  "language_info": {
   "codemirror_mode": {
    "name": "ipython",
    "version": 3
   },
   "file_extension": ".py",
   "mimetype": "text/x-python",
   "name": "python",
   "nbconvert_exporter": "python",
   "pygments_lexer": "ipython3",
   "version": "3.7.1"
  }
 },
 "nbformat": 4,
 "nbformat_minor": 2
}
